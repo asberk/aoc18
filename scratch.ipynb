{
 "cells": [
  {
   "cell_type": "code",
   "execution_count": 1,
   "metadata": {},
   "outputs": [],
   "source": [
    "from util import read\n",
    "import numpy as np\n",
    "from collections import defaultdict, deque\n",
    "import matplotlib.pyplot as plt"
   ]
  },
  {
   "cell_type": "code",
   "execution_count": 2,
   "metadata": {},
   "outputs": [
    {
     "name": "stdout",
     "output_type": "stream",
     "text": [
      "Day 10\n",
      "------\n"
     ]
    }
   ],
   "source": [
    "day = '10'\n",
    "print(f'Day {day}')\n",
    "print('------')\n",
    "x = read(day)"
   ]
  },
  {
   "cell_type": "code",
   "execution_count": 17,
   "metadata": {},
   "outputs": [],
   "source": [
    "test = ['position=< 9,  1> velocity=< 0,  2>', \n",
    "        'position=< 7,  0> velocity=<-1,  0>',\n",
    "        'position=< 3, -2> velocity=<-1,  1>',\n",
    "'position=< 6, 10> velocity=<-2, -1>',\n",
    "'position=< 2, -4> velocity=< 2,  2>',\n",
    "'position=<-6, 10> velocity=< 2, -2>','position=< 1,  8> velocity=< 1, -1>','position=< 1,  7> velocity=< 1,  0>','position=<-3, 11> velocity=< 1, -2>','position=< 7,  6> velocity=<-1, -1>','position=<-2,  3> velocity=< 1,  0>','position=<-4,  3> velocity=< 2,  0>','position=<10, -3> velocity=<-1,  1>','position=< 5, 11> velocity=< 1, -2>','position=< 4,  7> velocity=< 0, -1>','position=< 8, -2> velocity=< 0,  1>','position=<15,  0> velocity=<-2,  0>','position=< 1,  6> velocity=< 1,  0>','position=< 8,  9> velocity=< 0, -1>','position=< 3,  3> velocity=<-1,  1>','position=< 0,  5> velocity=< 0, -1>','position=<-2,  2> velocity=< 2,  0>','position=< 5, -2> velocity=< 1,  2>','position=< 1,  4> velocity=< 2,  1>','position=<-2,  7> velocity=< 2, -2>','position=< 3,  6> velocity=<-1, -1>','position=< 5,  0> velocity=< 1,  0>','position=<-6,  0> velocity=< 2,  0>','position=< 5,  9> velocity=< 1, -2>','position=<14,  7> velocity=<-2,  0>','position=<-3,  6> velocity=< 2, -1>']"
   ]
  },
  {
   "cell_type": "code",
   "execution_count": 18,
   "metadata": {},
   "outputs": [],
   "source": [
    "def parsePoint(s):\n",
    "    try:\n",
    "        p, v = ''.join([ss for ss in s if ss in '-0123456789,>']).split('>')[:2]\n",
    "    except:\n",
    "        print(s)\n",
    "        raise\n",
    "    px, py = p.split(',')\n",
    "    vx, vy = v.split(',')\n",
    "    px, py = int(px), int(py)\n",
    "    vx, vy = int(vx), int(vy)\n",
    "    return (px, py, vx, vy)"
   ]
  },
  {
   "cell_type": "code",
   "execution_count": 27,
   "metadata": {},
   "outputs": [],
   "source": [
    "class Point:\n",
    "\n",
    "    def __init__(self, px, py, vx, vy):\n",
    "        self.px = px\n",
    "        self.py = py\n",
    "        self.vx = vx\n",
    "        self.vy = vy\n",
    "    def move(self):\n",
    "        self.px += self.vx\n",
    "        self.py += self.vy\n",
    "\n",
    "points = [Point(*parsePoint(s)) for s in test]"
   ]
  },
  {
   "cell_type": "code",
   "execution_count": 20,
   "metadata": {},
   "outputs": [],
   "source": [
    "def maxes(pts):\n",
    "    xs, ys = [p.px for p in pts], [p.py for p in pts]\n",
    "    return np.max(xs), np.max(ys)\n",
    "\n",
    "def draw_grid(points):\n",
    "    max_x, max_y = maxes(points)\n",
    "    G = np.zeros((max_y + 1, max_x+1))\n",
    "    for p in points:\n",
    "        if p.py >= 0 and p.px >= 0:\n",
    "            G[p.py, p.px] = 1\n",
    "    return G\n"
   ]
  },
  {
   "cell_type": "code",
   "execution_count": 21,
   "metadata": {},
   "outputs": [],
   "source": [
    "def getStat(pts, fun):\n",
    "    xs, ys = [p.px for p in pts], [p.py for p in pts]\n",
    "    return fun(xs), fun(ys)\n"
   ]
  },
  {
   "cell_type": "code",
   "execution_count": 28,
   "metadata": {},
   "outputs": [],
   "source": [
    "def move(pts):\n",
    "    for p in pts:\n",
    "        p.move()\n",
    "    return"
   ]
  },
  {
   "cell_type": "code",
   "execution_count": 22,
   "metadata": {},
   "outputs": [
    {
     "data": {
      "text/plain": [
       "(5.211250137124041, 4.360689021346844)"
      ]
     },
     "execution_count": 22,
     "metadata": {},
     "output_type": "execute_result"
    }
   ],
   "source": [
    "getStat(points, np.std)"
   ]
  },
  {
   "cell_type": "code",
   "execution_count": 29,
   "metadata": {},
   "outputs": [],
   "source": [
    "G = draw_grid(points)"
   ]
  },
  {
   "cell_type": "code",
   "execution_count": 30,
   "metadata": {},
   "outputs": [
    {
     "data": {
      "text/plain": [
       "<matplotlib.image.AxesImage at 0x1192dc4a8>"
      ]
     },
     "execution_count": 30,
     "metadata": {},
     "output_type": "execute_result"
    },
    {
     "data": {
      "image/png": "[encoded data removed]",
      "text/plain": [
       "<Figure size 384x288 with 1 Axes>"
      ]
     },
     "metadata": {
      "needs_background": "light"
     },
     "output_type": "display_data"
    }
   ],
   "source": [
    "plt.matshow(G)"
   ]
  },
  {
   "cell_type": "code",
   "execution_count": 37,
   "metadata": {},
   "outputs": [],
   "source": [
    "move(points)"
   ]
  },
  {
   "cell_type": "code",
   "execution_count": 38,
   "metadata": {},
   "outputs": [],
   "source": [
    "G = draw_grid(points)"
   ]
  },
  {
   "cell_type": "code",
   "execution_count": 39,
   "metadata": {},
   "outputs": [
    {
     "data": {
      "text/plain": [
       "<matplotlib.image.AxesImage at 0x11988a470>"
      ]
     },
     "execution_count": 39,
     "metadata": {},
     "output_type": "execute_result"
    },
    {
     "data": {
      "image/png": "[encoded data removed]",
      "text/plain": [
       "<Figure size 360x288 with 1 Axes>"
      ]
     },
     "metadata": {
      "needs_background": "light"
     },
     "output_type": "display_data"
    }
   ],
   "source": [
    "plt.matshow(G)"
   ]
  },
  {
   "cell_type": "code",
   "execution_count": 41,
   "metadata": {},
   "outputs": [
    {
     "data": {
      "text/plain": [
       "(8, 10)"
      ]
     },
     "execution_count": 41,
     "metadata": {},
     "output_type": "execute_result"
    }
   ],
   "source": [
    "G.shape"
   ]
  }
 ],
 "metadata": {
  "kernelspec": {
   "display_name": "py37",
   "language": "python",
   "name": "py37"
  },
  "language_info": {
   "codemirror_mode": {
    "name": "ipython",
    "version": 3
   },
   "file_extension": ".py",
   "mimetype": "text/x-python",
   "name": "python",
   "nbconvert_exporter": "python",
   "pygments_lexer": "ipython3",
   "version": "3.6.7"
  },
  "toc": {
   "base_numbering": 1,
   "nav_menu": {},
   "number_sections": true,
   "sideBar": true,
   "skip_h1_title": false,
   "title_cell": "Table of Contents",
   "title_sidebar": "Contents",
   "toc_cell": false,
   "toc_position": {},
   "toc_section_display": true,
   "toc_window_display": false
  }
 },
 "nbformat": 4,
 "nbformat_minor": 2
}
